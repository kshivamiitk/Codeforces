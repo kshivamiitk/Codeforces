{
 "cells": [
  {
   "cell_type": "code",
   "execution_count": 2,
   "metadata": {},
   "outputs": [
    {
     "name": "stdout",
     "output_type": "stream",
     "text": [
      "Requirement already satisfied: pandas in /Library/Frameworks/Python.framework/Versions/3.11/lib/python3.11/site-packages (2.2.3)\n",
      "Requirement already satisfied: numpy>=1.23.2 in /Library/Frameworks/Python.framework/Versions/3.11/lib/python3.11/site-packages (from pandas) (1.26.4)\n",
      "Requirement already satisfied: python-dateutil>=2.8.2 in /Library/Frameworks/Python.framework/Versions/3.11/lib/python3.11/site-packages (from pandas) (2.8.2)\n",
      "Requirement already satisfied: pytz>=2020.1 in /Library/Frameworks/Python.framework/Versions/3.11/lib/python3.11/site-packages (from pandas) (2024.1)\n",
      "Requirement already satisfied: tzdata>=2022.7 in /Library/Frameworks/Python.framework/Versions/3.11/lib/python3.11/site-packages (from pandas) (2024.1)\n",
      "Requirement already satisfied: six>=1.5 in /Library/Frameworks/Python.framework/Versions/3.11/lib/python3.11/site-packages (from python-dateutil>=2.8.2->pandas) (1.16.0)\n",
      "Requirement already satisfied: numpy in /Library/Frameworks/Python.framework/Versions/3.11/lib/python3.11/site-packages (1.26.4)\n"
     ]
    }
   ],
   "source": [
    "!pip install pandas\n",
    "!pip install numpy\n"
   ]
  },
  {
   "cell_type": "code",
   "execution_count": 9,
   "metadata": {},
   "outputs": [
    {
     "name": "stdout",
     "output_type": "stream",
     "text": [
      "Index(['SL.No     Enroll No.          Student Name         Grade'], dtype='object')\n",
      "  SL.No  Enroll No.       Student Name Grade\n",
      "0     1  2401030360       AADI SHANKAR     B\n",
      "1     2  2401030330      AADIT BHUTANI    C+\n",
      "2     3  2401020067  AADITYA SHAASHWAT    B+\n",
      "3     4  2401020185         AADYA ARYA    C+\n",
      "4     5  2401020164         AADYA JAIN    C+\n",
      "\n",
      "Grade Distribution:\n",
      "Grade\n",
      "B+    166\n",
      "B     158\n",
      "C+    128\n",
      "A      91\n",
      "A+     64\n",
      "C      61\n",
      "D      30\n",
      "F      17\n",
      "Name: count, dtype: int64\n",
      "\n",
      "Grade Distribution in percentage:\n",
      "Grade\n",
      "B+    23.216783\n",
      "B     22.097902\n",
      "C+    17.902098\n",
      "A     12.727273\n",
      "A+     8.951049\n",
      "C      8.531469\n",
      "D      4.195804\n",
      "F      2.377622\n",
      "Name: count, dtype: float64\n"
     ]
    }
   ],
   "source": [
    "import pandas as pd\n",
    "\n",
    "# Path to your CSV file\n",
    "path = \"/Users/kumarshivam/Documents/Programming/codeforces_div2/1600RatingQuestions/Grade-SDF-Lab-1-Phase-1.xlsx.csv\"\n",
    "\n",
    "# Load the data\n",
    "df = pd.read_csv(path)\n",
    "\n",
    "# Print the column names to verify the structure\n",
    "print(df.columns)\n",
    "\n",
    "# Split the single column into multiple columns using whitespace as the delimiter\n",
    "df_split = df.iloc[:, 0].str.split(r'\\s{2,}', expand=True)\n",
    "\n",
    "# Rename columns for clarity (adjust based on actual content)\n",
    "df_split.columns = ['SL.No', 'Enroll No.', 'Student Name', 'Grade']\n",
    "\n",
    "# Print the cleaned dataframe\n",
    "print(df_split.head())\n",
    "\n",
    "# Count the occurrences of each grade\n",
    "grade_counts = df_split['Grade'].value_counts()\n",
    "print(\"\\nGrade Distribution:\")\n",
    "print(grade_counts)\n",
    "\n",
    "# print th percentage of each grade\n",
    "print(\"\\nGrade Distribution in percentage:\")\n",
    "print(grade_counts/grade_counts.sum()*100)\n"
   ]
  },
  {
   "cell_type": "code",
   "execution_count": 6,
   "metadata": {},
   "outputs": [
    {
     "ename": "KeyError",
     "evalue": "'Grade'",
     "output_type": "error",
     "traceback": [
      "\u001b[0;31m---------------------------------------------------------------------------\u001b[0m",
      "\u001b[0;31mKeyError\u001b[0m                                  Traceback (most recent call last)",
      "File \u001b[0;32m/Library/Frameworks/Python.framework/Versions/3.11/lib/python3.11/site-packages/pandas/core/indexes/base.py:3805\u001b[0m, in \u001b[0;36mIndex.get_loc\u001b[0;34m(self, key)\u001b[0m\n\u001b[1;32m   3804\u001b[0m \u001b[39mtry\u001b[39;00m:\n\u001b[0;32m-> 3805\u001b[0m     \u001b[39mreturn\u001b[39;00m \u001b[39mself\u001b[39;49m\u001b[39m.\u001b[39;49m_engine\u001b[39m.\u001b[39;49mget_loc(casted_key)\n\u001b[1;32m   3806\u001b[0m \u001b[39mexcept\u001b[39;00m \u001b[39mKeyError\u001b[39;00m \u001b[39mas\u001b[39;00m err:\n",
      "File \u001b[0;32mindex.pyx:167\u001b[0m, in \u001b[0;36mpandas._libs.index.IndexEngine.get_loc\u001b[0;34m()\u001b[0m\n",
      "File \u001b[0;32mindex.pyx:196\u001b[0m, in \u001b[0;36mpandas._libs.index.IndexEngine.get_loc\u001b[0;34m()\u001b[0m\n",
      "File \u001b[0;32mpandas/_libs/hashtable_class_helper.pxi:7081\u001b[0m, in \u001b[0;36mpandas._libs.hashtable.PyObjectHashTable.get_item\u001b[0;34m()\u001b[0m\n",
      "File \u001b[0;32mpandas/_libs/hashtable_class_helper.pxi:7089\u001b[0m, in \u001b[0;36mpandas._libs.hashtable.PyObjectHashTable.get_item\u001b[0;34m()\u001b[0m\n",
      "\u001b[0;31mKeyError\u001b[0m: 'Grade'",
      "\nThe above exception was the direct cause of the following exception:\n",
      "\u001b[0;31mKeyError\u001b[0m                                  Traceback (most recent call last)",
      "Cell \u001b[0;32mIn[6], line 4\u001b[0m\n\u001b[1;32m      1\u001b[0m \u001b[39m# the row [\"Grade\"] contains the grade of the student\u001b[39;00m\n\u001b[1;32m      2\u001b[0m \u001b[39m# I have to count the number of A+ , A , B+ , B , C+ , C , D+ , D , E , F\u001b[39;00m\n\u001b[0;32m----> 4\u001b[0m grade \u001b[39m=\u001b[39m df[\u001b[39m\"\u001b[39;49m\u001b[39mGrade\u001b[39;49m\u001b[39m\"\u001b[39;49m]\n\u001b[1;32m      5\u001b[0m grade \u001b[39m=\u001b[39m grade\u001b[39m.\u001b[39mto_numpy()\u001b[39m# converting into array\u001b[39;00m\n\u001b[1;32m      7\u001b[0m \u001b[39m# counting the number of A+ , A , B+ , B , C+ , C , D+ , D , E , F\u001b[39;00m\n",
      "File \u001b[0;32m/Library/Frameworks/Python.framework/Versions/3.11/lib/python3.11/site-packages/pandas/core/frame.py:4102\u001b[0m, in \u001b[0;36mDataFrame.__getitem__\u001b[0;34m(self, key)\u001b[0m\n\u001b[1;32m   4100\u001b[0m \u001b[39mif\u001b[39;00m \u001b[39mself\u001b[39m\u001b[39m.\u001b[39mcolumns\u001b[39m.\u001b[39mnlevels \u001b[39m>\u001b[39m \u001b[39m1\u001b[39m:\n\u001b[1;32m   4101\u001b[0m     \u001b[39mreturn\u001b[39;00m \u001b[39mself\u001b[39m\u001b[39m.\u001b[39m_getitem_multilevel(key)\n\u001b[0;32m-> 4102\u001b[0m indexer \u001b[39m=\u001b[39m \u001b[39mself\u001b[39;49m\u001b[39m.\u001b[39;49mcolumns\u001b[39m.\u001b[39;49mget_loc(key)\n\u001b[1;32m   4103\u001b[0m \u001b[39mif\u001b[39;00m is_integer(indexer):\n\u001b[1;32m   4104\u001b[0m     indexer \u001b[39m=\u001b[39m [indexer]\n",
      "File \u001b[0;32m/Library/Frameworks/Python.framework/Versions/3.11/lib/python3.11/site-packages/pandas/core/indexes/base.py:3812\u001b[0m, in \u001b[0;36mIndex.get_loc\u001b[0;34m(self, key)\u001b[0m\n\u001b[1;32m   3807\u001b[0m     \u001b[39mif\u001b[39;00m \u001b[39misinstance\u001b[39m(casted_key, \u001b[39mslice\u001b[39m) \u001b[39mor\u001b[39;00m (\n\u001b[1;32m   3808\u001b[0m         \u001b[39misinstance\u001b[39m(casted_key, abc\u001b[39m.\u001b[39mIterable)\n\u001b[1;32m   3809\u001b[0m         \u001b[39mand\u001b[39;00m \u001b[39many\u001b[39m(\u001b[39misinstance\u001b[39m(x, \u001b[39mslice\u001b[39m) \u001b[39mfor\u001b[39;00m x \u001b[39min\u001b[39;00m casted_key)\n\u001b[1;32m   3810\u001b[0m     ):\n\u001b[1;32m   3811\u001b[0m         \u001b[39mraise\u001b[39;00m InvalidIndexError(key)\n\u001b[0;32m-> 3812\u001b[0m     \u001b[39mraise\u001b[39;00m \u001b[39mKeyError\u001b[39;00m(key) \u001b[39mfrom\u001b[39;00m \u001b[39merr\u001b[39;00m\n\u001b[1;32m   3813\u001b[0m \u001b[39mexcept\u001b[39;00m \u001b[39mTypeError\u001b[39;00m:\n\u001b[1;32m   3814\u001b[0m     \u001b[39m# If we have a listlike key, _check_indexing_error will raise\u001b[39;00m\n\u001b[1;32m   3815\u001b[0m     \u001b[39m#  InvalidIndexError. Otherwise we fall through and re-raise\u001b[39;00m\n\u001b[1;32m   3816\u001b[0m     \u001b[39m#  the TypeError.\u001b[39;00m\n\u001b[1;32m   3817\u001b[0m     \u001b[39mself\u001b[39m\u001b[39m.\u001b[39m_check_indexing_error(key)\n",
      "\u001b[0;31mKeyError\u001b[0m: 'Grade'"
     ]
    }
   ],
   "source": [
    "# the row [\"Grade\"] contains the grade of the student\n",
    "# I have to count the number of A+ , A , B+ , B , C+ , C , D+ , D , E , F\n",
    "\n",
    "grade = df[\"Grade\"]\n",
    "grade = grade.to_numpy()# converting into array\n",
    "\n",
    "# counting the number of A+ , A , B+ , B , C+ , C , D+ , D , E , F\n",
    "Aplus = 0\n",
    "A = 0 \n",
    "Bplus = 0\n",
    "B = 0\n",
    "Cplus = 0\n",
    "C = 0\n",
    "Dplus = 0\n",
    "\n",
    "D = 0\n",
    "E = 0\n",
    "F = 0\n",
    "\n",
    "for i in grade:\n",
    "    if i == \"A+\":\n",
    "        Aplus += 1\n",
    "    elif i == \"A\":\n",
    "        A += 1\n",
    "    elif i == \"B+\":\n",
    "        Bplus += 1\n",
    "    elif i == \"B\":\n",
    "        B += 1\n",
    "    elif i == \"C+\":\n",
    "        Cplus += 1\n",
    "    elif i == \"C\":\n",
    "        C += 1\n",
    "    elif i == \"D+\":\n",
    "        Dplus += 1\n",
    "    elif i == \"D\":\n",
    "        D += 1\n",
    "    elif i == \"E\":\n",
    "        E += 1\n",
    "    elif i == \"F\":\n",
    "        F += 1\n",
    "\n",
    "print(\"A+ : \", Aplus)\n",
    "print(\"A : \", A)\n",
    "print(\"B+ : \", Bplus)\n",
    "print(\"B : \", B)\n",
    "print(\"C+ : \", Cplus)\n",
    "print(\"C : \", C)\n",
    "print(\"D+ : \", Dplus)\n",
    "print(\"D : \", D)\n",
    "print(\"E : \", E)\n",
    "print(\"F : \", F)\n"
   ]
  },
  {
   "cell_type": "code",
   "execution_count": null,
   "metadata": {},
   "outputs": [],
   "source": []
  }
 ],
 "metadata": {
  "kernelspec": {
   "display_name": "Python 3",
   "language": "python",
   "name": "python3"
  },
  "language_info": {
   "codemirror_mode": {
    "name": "ipython",
    "version": 3
   },
   "file_extension": ".py",
   "mimetype": "text/x-python",
   "name": "python",
   "nbconvert_exporter": "python",
   "pygments_lexer": "ipython3",
   "version": "3.11.8"
  },
  "orig_nbformat": 4
 },
 "nbformat": 4,
 "nbformat_minor": 2
}
